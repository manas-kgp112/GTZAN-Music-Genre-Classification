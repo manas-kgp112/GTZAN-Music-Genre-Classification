{
 "cells": [
  {
   "cell_type": "code",
   "execution_count": 18,
   "metadata": {},
   "outputs": [],
   "source": [
    "import os, cv2\n",
    "import librosa\n",
    "import pandas as pd\n",
    "import numpy as np\n",
    "import tensorflow as tf\n",
    "from sklearn.model_selection import train_test_split"
   ]
  },
  {
   "cell_type": "code",
   "execution_count": 9,
   "metadata": {},
   "outputs": [],
   "source": [
    "data = np.load(\"../artifacts/data/MusicFeatures.npz\")\n",
    "spec = data['spec'] \n",
    "mel_spec = data['mel'] \n",
    "mfcc = data['mfcc'] \n",
    "zcr = data['zcr'] \n",
    "spec_c = data['cen'] \n",
    "chr = data['chroma'] \n",
    "y = data['target'] "
   ]
  },
  {
   "cell_type": "code",
   "execution_count": 10,
   "metadata": {},
   "outputs": [],
   "source": [
    "# train test split\n",
    "spec_train ,spec_test , mel_spec_train ,mel_spec_test , mfcc_train ,mfcc_test , zcr_train,zcr_test, spec_c_train ,spec_c_test , chr_train ,chr_test , y_train  ,y_test  = train_test_split(spec, mel_spec, mfcc, zcr, spec_c, chr, y, test_size=0.2, random_state=42)"
   ]
  },
  {
   "cell_type": "code",
   "execution_count": 11,
   "metadata": {},
   "outputs": [],
   "source": [
    "# Scaling data -> Spectrogram\n",
    "max_spec = np.amax(spec)\n",
    "\n",
    "spec_train = spec_train/max_spec\n",
    "spec_test = spec_test/max_spec\n",
    "\n",
    "spec_train = spec_train.astype(np.float32)\n",
    "spec_test = spec_test.astype(np.float32)"
   ]
  },
  {
   "cell_type": "code",
   "execution_count": 15,
   "metadata": {},
   "outputs": [],
   "source": [
    "N, row, col = spec_train.shape\n",
    "spec_train = spec_train.reshape((N, row, col, 1))\n",
    "\n",
    "N, row, col = spec_test.shape\n",
    "spec_test = spec_test.reshape((N, row, col, 1))"
   ]
  },
  {
   "cell_type": "code",
   "execution_count": 16,
   "metadata": {},
   "outputs": [
    {
     "data": {
      "text/plain": [
       "(755, 1025, 1293, 1)"
      ]
     },
     "execution_count": 16,
     "metadata": {},
     "output_type": "execute_result"
    }
   ],
   "source": [
    "spec_train.shape"
   ]
  },
  {
   "cell_type": "code",
   "execution_count": 19,
   "metadata": {},
   "outputs": [],
   "source": [
    "'''\n",
    "    The original shape of MFCC is (944, 10, 1293). We first resize both the MFCC train and test data to \n",
    "    (944, 120, 600). After that, we reshape the data into (N, row, col, 1) for CNN. Then we standardize the \n",
    "    data.\n",
    "\n",
    "'''\n",
    "\n",
    "mfcc_train_new = np.empty((mfcc_train.shape[0], 120, 600))\n",
    "mfcc_test_new = np.empty((mfcc_test.shape[0], 120, 600))\n",
    "\n",
    "for i in range(mfcc_train.shape[0]):\n",
    "    curr = mfcc_train[i]\n",
    "    curr = cv2.resize(curr, (600, 120))\n",
    "    mfcc_train_new[i] = curr\n",
    "\n",
    "mfcc_train = mfcc_train_new\n",
    "\n",
    "\n",
    "for i in range(mfcc_test.shape[0]):\n",
    "    curr = mfcc_test[i]\n",
    "    curr = cv2.resize(curr, (600, 120))\n",
    "    mfcc_test_new[i] = curr\n",
    "\n",
    "mfcc_test = mfcc_test_new\n",
    "\n",
    "\n",
    "mfcc_train = mfcc_train.astype(np.float32)\n",
    "mfcc_test = mfcc_test.astype(np.float32)\n",
    "\n",
    "\n",
    "N, row, col = mfcc_train.shape\n",
    "mfcc_train = mfcc_train.reshape((N, row, col, 1))\n",
    "\n",
    "\n",
    "N, row, col = mfcc_test.shape\n",
    "mfcc_test = mfcc_test.reshape((N, row, col, 1))\n",
    "\n",
    "\n",
    "mean_data = np.mean(mfcc_train)\n",
    "std_data = np.std(mfcc_train)\n",
    "\n",
    "\n",
    "mfcc_train = (mfcc_train - mean_data)/std_data\n",
    "mfcc_test = (mfcc_test - mean_data)/std_data"
   ]
  },
  {
   "cell_type": "code",
   "execution_count": 20,
   "metadata": {},
   "outputs": [],
   "source": [
    "# Mel-Spectrogram\n",
    "mel_spec_max = np.amax(mel_spec_train)\n",
    "mel_train = mel_spec_train/np.amax(mel_spec_max)\n",
    "mel_test = mel_spec_test/np.amax(mel_spec_max)\n",
    "\n",
    "mel_train = mel_train.astype(np.float32)\n",
    "mel_test = mel_test.astype(np.float32)\n",
    "\n",
    "N, row, col = mel_train.shape\n",
    "mel_train = mel_train.reshape((N, row, col, 1))\n",
    "\n",
    "N, row, col = mel_test.shape\n",
    "mel_test = mel_test.reshape((N, row, col, 1))"
   ]
  },
  {
   "cell_type": "code",
   "execution_count": 21,
   "metadata": {},
   "outputs": [],
   "source": [
    "# Saving spectrogram features as .npz file\n",
    "np.savez_compressed(\"../artifacts/data/spectrogram_features.npz\", spec_train=spec_train, spec_test=spec_test, y_train=y_train, y_test=y_test)"
   ]
  },
  {
   "cell_type": "code",
   "execution_count": 22,
   "metadata": {},
   "outputs": [],
   "source": [
    "# Saving mfcc features as .npz file\n",
    "np.savez_compressed(\"../artifacts/data/mfcc_features.npz\", mfcc_train=mfcc_train, mfcc_test=mfcc_test, y_train=y_train, y_test=y_test)"
   ]
  },
  {
   "cell_type": "code",
   "execution_count": 23,
   "metadata": {},
   "outputs": [],
   "source": [
    "# Saving mel_spectrogram features as .npz file\n",
    "np.savez_compressed(\"../artifacts/data/mel_spec_features.npz\", mel_spec_train=mel_spec_train, mel_spec_test=mel_spec_test, y_train=y_train, y_test=y_test)"
   ]
  },
  {
   "cell_type": "code",
   "execution_count": null,
   "metadata": {},
   "outputs": [],
   "source": []
  }
 ],
 "metadata": {
  "kernelspec": {
   "display_name": "Python 3",
   "language": "python",
   "name": "python3"
  },
  "language_info": {
   "codemirror_mode": {
    "name": "ipython",
    "version": 3
   },
   "file_extension": ".py",
   "mimetype": "text/x-python",
   "name": "python",
   "nbconvert_exporter": "python",
   "pygments_lexer": "ipython3",
   "version": "3.9.16"
  },
  "orig_nbformat": 4
 },
 "nbformat": 4,
 "nbformat_minor": 2
}
