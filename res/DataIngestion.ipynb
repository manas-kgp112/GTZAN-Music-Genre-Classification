{
 "cells": [
  {
   "cell_type": "code",
   "execution_count": 2,
   "metadata": {},
   "outputs": [],
   "source": [
    "import os\n",
    "import pandas as pd\n",
    "import numpy as np\n",
    "import sklearn\n",
    "import librosa\n",
    "from tqdm import tqdm\n",
    "import tensorflow as tf\n",
    "from tensorflow import keras"
   ]
  },
  {
   "cell_type": "code",
   "execution_count": null,
   "metadata": {},
   "outputs": [],
   "source": []
  },
  {
   "cell_type": "code",
   "execution_count": 3,
   "metadata": {},
   "outputs": [],
   "source": [
    "data_path = \"../artifacts/data/genres_original/\"\n",
    "\n",
    "audio_labels = []\n",
    "audio_paths = []\n",
    "\n",
    "for root, dirs, files in os.walk(data_path, topdown=False):\n",
    "    for file in files:\n",
    "        if file.endswith(\".wav\"):\n",
    "            audio_paths.append(os.path.join(root, file))\n",
    "            label, _ = file.split(\".\", 1)\n",
    "            audio_labels.append(label)\n",
    "\n",
    "\n",
    "audio_labels = np.array(audio_labels)\n",
    "audio_paths = np.array(audio_paths)"
   ]
  },
  {
   "cell_type": "code",
   "execution_count": 5,
   "metadata": {},
   "outputs": [
    {
     "name": "stderr",
     "output_type": "stream",
     "text": [
      "  0%|          | 0/1000 [00:00<?, ?it/s]"
     ]
    },
    {
     "name": "stderr",
     "output_type": "stream",
     "text": [
      " 55%|█████▌    | 554/1000 [03:40<02:27,  3.02it/s]C:\\Users\\manas\\AppData\\Local\\Temp\\ipykernel_15792\\3155626311.py:13: UserWarning: PySoundFile failed. Trying audioread instead.\n",
      "  y, r = librosa.load(audio)\n",
      "a:\\M\\Hosted Projects\\GTZAN Music Genre Classification\\venv\\lib\\site-packages\\librosa\\core\\audio.py:184: FutureWarning: librosa.core.audio.__audioread_load\n",
      "\tDeprecated as of librosa version 0.10.0.\n",
      "\tIt will be removed in librosa version 1.0.\n",
      "  y, sr_native = __audioread_load(path, offset, duration, dtype)\n",
      "100%|██████████| 1000/1000 [06:57<00:00,  2.40it/s]\n"
     ]
    }
   ],
   "source": [
    "spec = np.empty([1000, 1025, 1293])\n",
    "mel_spec = np.empty([1000, 128, 1293])\n",
    "mfcc = np.empty([1000, 10, 1293])\n",
    "zcr = np.empty([1000, 1293])\n",
    "spec_c = np.empty([1000, 1293])\n",
    "chr = np.empty([1000, 12, 1293])\n",
    "\n",
    "bad_index = []\n",
    "for i in tqdm(range(len(audio_labels))):\n",
    "    try:\n",
    "        \n",
    "        audio = audio_paths[i]\n",
    "        y, r = librosa.load(audio)\n",
    "\n",
    "\n",
    "        stft = librosa.stft(y)\n",
    "        stft_db = librosa.amplitude_to_db(abs(stft))\n",
    "        spec[i] = stft_db\n",
    "\n",
    "\n",
    "        mel = librosa.feature.melspectrogram(y=y)\n",
    "        mel_db = librosa.power_to_db(mel)\n",
    "        mel_spec[i] = mel_db\n",
    "\n",
    "\n",
    "        mfc = librosa.feature.mfcc(y=y, sr=r, n_mfcc=10)\n",
    "        mfcc[i] = mfc\n",
    "\n",
    "\n",
    "        zero = librosa.feature.zero_crossing_rate(y)[0]\n",
    "        zcr[i] = zero\n",
    "\n",
    "\n",
    "        spec_cent = librosa.feature.spectral_centroid(y=y, sr=r)[0]\n",
    "        spec_c[i] = spec_cent\n",
    "\n",
    "\n",
    "        chroma = librosa.feature.chroma_stft(y=y, sr=r, n_chroma=12, n_fft=4096)\n",
    "        chr[i] = chroma\n",
    "\n",
    "\n",
    "    except:\n",
    "\n",
    "        bad_index.append(i)"
   ]
  },
  {
   "cell_type": "code",
   "execution_count": 6,
   "metadata": {},
   "outputs": [
    {
     "data": {
      "text/plain": [
       "(1000, 1025, 1293)"
      ]
     },
     "execution_count": 6,
     "metadata": {},
     "output_type": "execute_result"
    }
   ],
   "source": [
    "spec.shape"
   ]
  },
  {
   "cell_type": "code",
   "execution_count": 7,
   "metadata": {},
   "outputs": [
    {
     "data": {
      "text/plain": [
       "56"
      ]
     },
     "execution_count": 7,
     "metadata": {},
     "output_type": "execute_result"
    }
   ],
   "source": [
    "len(bad_index)"
   ]
  },
  {
   "cell_type": "code",
   "execution_count": 11,
   "metadata": {},
   "outputs": [
    {
     "data": {
      "text/plain": [
       "[142,\n",
       " 145,\n",
       " 148,\n",
       " 149,\n",
       " 151,\n",
       " 153,\n",
       " 154,\n",
       " 156,\n",
       " 200,\n",
       " 202,\n",
       " 203,\n",
       " 204,\n",
       " 205,\n",
       " 206,\n",
       " 207,\n",
       " 208,\n",
       " 209,\n",
       " 300,\n",
       " 301,\n",
       " 303,\n",
       " 305,\n",
       " 308,\n",
       " 312,\n",
       " 314,\n",
       " 316,\n",
       " 426,\n",
       " 427,\n",
       " 429,\n",
       " 431,\n",
       " 432,\n",
       " 433,\n",
       " 434,\n",
       " 435,\n",
       " 436,\n",
       " 437,\n",
       " 438,\n",
       " 439,\n",
       " 440,\n",
       " 441,\n",
       " 442,\n",
       " 443,\n",
       " 444,\n",
       " 445,\n",
       " 550,\n",
       " 552,\n",
       " 554,\n",
       " 556,\n",
       " 559,\n",
       " 561,\n",
       " 563,\n",
       " 566,\n",
       " 927,\n",
       " 932,\n",
       " 934,\n",
       " 936,\n",
       " 938]"
      ]
     },
     "execution_count": 11,
     "metadata": {},
     "output_type": "execute_result"
    }
   ],
   "source": [
    "bad_index"
   ]
  },
  {
   "cell_type": "code",
   "execution_count": 8,
   "metadata": {},
   "outputs": [],
   "source": [
    "audio_labels = np.delete(audio_labels, bad_index)"
   ]
  },
  {
   "cell_type": "code",
   "execution_count": 9,
   "metadata": {},
   "outputs": [
    {
     "data": {
      "text/plain": [
       "(944,)"
      ]
     },
     "execution_count": 9,
     "metadata": {},
     "output_type": "execute_result"
    }
   ],
   "source": [
    "audio_labels.shape"
   ]
  },
  {
   "cell_type": "code",
   "execution_count": 10,
   "metadata": {},
   "outputs": [],
   "source": [
    "spec = np.delete(spec, bad_index, 0)"
   ]
  },
  {
   "cell_type": "code",
   "execution_count": 11,
   "metadata": {},
   "outputs": [],
   "source": [
    "mel_spec = np.delete(mel_spec, bad_index, 0)\n",
    "mfcc = np.delete(mfcc, bad_index, 0)\n",
    "zcr = np.delete(zcr, bad_index, 0)\n",
    "spec_c = np.delete(spec_c, bad_index, 0)\n",
    "chr = np.delete(chr, bad_index, 0)"
   ]
  },
  {
   "cell_type": "code",
   "execution_count": 12,
   "metadata": {},
   "outputs": [],
   "source": [
    "spec = spec.astype(np.float32)\n",
    "mel_spec = mel_spec.astype(np.float32)\n",
    "mfcc = mfcc.astype(np.float32)\n",
    "zcr = zcr.astype(np.float32)\n",
    "spec_c = spec_c.astype(np.float32)\n",
    "chr = chr.astype(np.float32)"
   ]
  },
  {
   "cell_type": "code",
   "execution_count": 13,
   "metadata": {},
   "outputs": [],
   "source": [
    "audio_labels[audio_labels == 'blues'] = 0\n",
    "audio_labels[audio_labels == 'classical'] = 1\n",
    "audio_labels[audio_labels == 'country'] = 2\n",
    "audio_labels[audio_labels == 'disco'] = 3\n",
    "audio_labels[audio_labels == 'hiphop'] = 4\n",
    "audio_labels[audio_labels == 'jazz'] = 5\n",
    "audio_labels[audio_labels == 'metal'] = 6\n",
    "audio_labels[audio_labels == 'pop'] = 7\n",
    "audio_labels[audio_labels == 'reggae'] = 8\n",
    "audio_labels[audio_labels == 'rock'] = 9\n",
    "audio_labels = [int(i) for i in audio_labels]\n",
    "audio_labels = np.array(audio_labels)"
   ]
  },
  {
   "cell_type": "code",
   "execution_count": 14,
   "metadata": {},
   "outputs": [],
   "source": [
    "# audio_labels"
   ]
  },
  {
   "cell_type": "code",
   "execution_count": 15,
   "metadata": {},
   "outputs": [],
   "source": [
    "y = tf.keras.utils.to_categorical(audio_labels,num_classes = 10, dtype =\"int32\")"
   ]
  },
  {
   "cell_type": "code",
   "execution_count": 16,
   "metadata": {},
   "outputs": [
    {
     "data": {
      "text/plain": [
       "array([[1, 0, 0, ..., 0, 0, 0],\n",
       "       [1, 0, 0, ..., 0, 0, 0],\n",
       "       [1, 0, 0, ..., 0, 0, 0],\n",
       "       ...,\n",
       "       [0, 0, 0, ..., 0, 0, 1],\n",
       "       [0, 0, 0, ..., 0, 0, 1],\n",
       "       [0, 0, 0, ..., 0, 0, 1]])"
      ]
     },
     "execution_count": 16,
     "metadata": {},
     "output_type": "execute_result"
    }
   ],
   "source": [
    "y"
   ]
  },
  {
   "cell_type": "code",
   "execution_count": 18,
   "metadata": {},
   "outputs": [],
   "source": [
    "np.savez_compressed(os.path.join(\"../artifacts/data/\", \"MusicFeatures.npz\"), spec= spec, mel= mel_spec, mfcc= mfcc, zcr= zcr, cen= spec_cent, chroma= chr, target=y)"
   ]
  },
  {
   "cell_type": "code",
   "execution_count": null,
   "metadata": {},
   "outputs": [],
   "source": []
  }
 ],
 "metadata": {
  "kernelspec": {
   "display_name": "Python 3",
   "language": "python",
   "name": "python3"
  },
  "language_info": {
   "codemirror_mode": {
    "name": "ipython",
    "version": 3
   },
   "file_extension": ".py",
   "mimetype": "text/x-python",
   "name": "python",
   "nbconvert_exporter": "python",
   "pygments_lexer": "ipython3",
   "version": "3.9.16"
  },
  "orig_nbformat": 4
 },
 "nbformat": 4,
 "nbformat_minor": 2
}
